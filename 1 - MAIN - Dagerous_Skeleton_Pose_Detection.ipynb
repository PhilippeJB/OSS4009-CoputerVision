{
 "cells": [
  {
   "cell_type": "markdown",
   "id": "dc3cfee2",
   "metadata": {},
   "source": [
    "# Human Skeleton Pose prediction with a webcam"
   ]
  },
  {
   "cell_type": "code",
   "execution_count": null,
   "id": "fbb61285",
   "metadata": {},
   "outputs": [],
   "source": [
    "# Institution: Carleton University\n",
    "# Course: OSS4009 Computer Vision \n",
    "# Term: W23\n",
    "#\n",
    "# Filename: 1 - MAIN - Dagerous_Skeleton_Pose_Detection.ipynb\n",
    "#\n",
    "# Students: Adam Thompson, Philippe Beaulieu\n",
    "# Professor:  Dr. Marzieh Amini\n",
    "#\n",
    "# Description: This program load the Mediapipe .csv dataset, and load the light CNN model, if the CNN prediction\n",
    "#              falls under the threshold (here 60%) the mediapipe hand model result will be used.\n",
    "#\n",
    "#              In this project we use Mediapipe as support when the CNN model goes below a set threshold.\n",
    "#     "
   ]
  },
  {
   "cell_type": "markdown",
   "id": "5472b8fb",
   "metadata": {},
   "source": [
    "setup"
   ]
  },
  {
   "cell_type": "code",
   "execution_count": 1,
   "id": "01bf4055",
   "metadata": {},
   "outputs": [],
   "source": [
    "import pathlib\n",
    "import os\n",
    "import json\n",
    "\n",
    "import cv2\n",
    "\n",
    "#import matplotlib.pyplot as plt\n",
    "import numpy as np\n",
    "import PIL\n",
    "import tensorflow as tf\n",
    "import mediapipe as mp\n",
    "\n",
    "import time\n",
    "import pandas as pd\n",
    "\n",
    "#from sklearn.svm import SVC\n",
    "from sklearn.neighbors import KNeighborsClassifier # KNN\n",
    "\n",
    "#from tensorflow import keras\n",
    "#from tensorflow.keras import layers\n",
    "#from tensorflow.keras.models import Sequential\n",
    "\n",
    "import warnings\n",
    "warnings.filterwarnings('ignore')\n",
    "\n",
    "img_height = 270\n",
    "img_width = 480"
   ]
  },
  {
   "cell_type": "markdown",
   "id": "1fb3e89a",
   "metadata": {},
   "source": [
    "Load the trained CNN model.tflite"
   ]
  },
  {
   "cell_type": "code",
   "execution_count": 2,
   "id": "43d730ad",
   "metadata": {},
   "outputs": [
    {
     "name": "stdout",
     "output_type": "stream",
     "text": [
      "{'serving_default': {'inputs': ['rescaling_input'], 'outputs': ['dense_3']}}\n"
     ]
    }
   ],
   "source": [
    "TF_MODEL_FILE_PATH = 'model.tflite' # The default path to the saved TensorFlow Lite model\n",
    "\n",
    "interpreter = tf.lite.Interpreter(model_path=TF_MODEL_FILE_PATH)\n",
    "\n",
    "interpreter.allocate_tensors()         # Needed before execution!\n",
    "interpreter.get_signature_list()\n",
    "\n",
    "signatures = interpreter.get_signature_list()\n",
    "print(signatures)\n"
   ]
  },
  {
   "cell_type": "markdown",
   "id": "ef6eb7e5",
   "metadata": {},
   "source": [
    "Load the pipeline CSV model (KNN), and the class_name"
   ]
  },
  {
   "cell_type": "code",
   "execution_count": 3,
   "id": "9a7cfc39",
   "metadata": {},
   "outputs": [
    {
     "name": "stdout",
     "output_type": "stream",
     "text": [
      "['shooting', 'sitting', 'standing']\n"
     ]
    }
   ],
   "source": [
    "mp_pose           = mp.solutions.pose\n",
    "mp_drawing        = mp.solutions.drawing_utils\n",
    "mp_drawing_styles = mp.solutions.drawing_styles\n",
    "\n",
    "data        = pd.read_csv(\"dataset3.csv\",index_col=0) \n",
    "feat, label = data.iloc[:,:132],data['target']\n",
    "\n",
    "#{using SVC}\n",
    "#model   = SVC(kernel = 'rbf')\n",
    "\n",
    "#{using K Neighbors Classifier}  - good standing and sitting\n",
    "model   = KNeighborsClassifier() # Initialize our classifier\n",
    "\n",
    "model.fit(feat, label)\n",
    "\n",
    "with open(\"class_name.json\", 'r') as f:\n",
    "    class_name = json.load(f)\n",
    "\n",
    "print(class_name)"
   ]
  },
  {
   "cell_type": "markdown",
   "id": "c7f7201c",
   "metadata": {},
   "source": [
    "Using the webcam input for images"
   ]
  },
  {
   "cell_type": "code",
   "execution_count": 8,
   "id": "ce1b5fee",
   "metadata": {
    "scrolled": true
   },
   "outputs": [],
   "source": [
    "# Label variable\n",
    "asan  = \"\"\n",
    "asan2 = \"\"\n",
    "\n",
    "# Colors.\n",
    "blue = (255, 127, 0)\n",
    "red = (50, 50, 255)\n",
    "colors = blue\n",
    "color2 = blue\n",
    "\n",
    "# For webcam input:\n",
    "cap = cv2.VideoCapture(3)  # my webcam is 3, yours mighht be 0 or another number, start at 0 and try until it work.\n",
    "with mp_pose.Pose(min_detection_confidence=0.6, min_tracking_confidence=0.6) as pose:\n",
    "    while cap.isOpened():\n",
    "\n",
    "        success, image = cap.read()\n",
    "        if not success:\n",
    "            print(\"Ignoring empty camera frame.\")\n",
    "            # If loading a video, use 'break' instead of 'continue'.\n",
    "            continue\n",
    "        \n",
    "        # process image for pipeline pose\n",
    "        # To improve performance, optionally mark the image as not writeable to\n",
    "        # pass by reference.\n",
    "        #image.flags.writeable = False\n",
    "        #image = cv2.cvtColor(image, cv2.COLOR_BGR2RGB)\n",
    "        #results = pose.process(image)\n",
    "        results = pose.process(cv2.cvtColor(image, cv2.COLOR_BGR2RGB))\n",
    "        \n",
    "        # extracting the landmark for the prediction\n",
    "        ttemp   = []\n",
    "        if results.pose_landmarks:\n",
    "            landmarks = results.pose_landmarks.landmark\n",
    "\n",
    "            for j in landmarks:\n",
    "                    ttemp = ttemp + [j.x, j.y, j.z, j.visibility]\n",
    "\n",
    "            # KNN prediction\n",
    "            y = model.predict([ttemp])\n",
    "            asan2 = 'KNN ' + class_name[int(y)]\n",
    "            if (int(y) == 0):\n",
    "                color2 = red\n",
    "            else:\n",
    "                color2 = blue\n",
    "            \n",
    "            #cv2.putText(image, asan2, (250,50), cv2.FONT_HERSHEY_SIMPLEX,1,color2,3)\n",
    "\n",
    "        # Draw the pose annotation on the image.\n",
    "        #image.flags.writeable = True\n",
    "        #image = cv2.cvtColor(image, cv2.COLOR_RGB2BGR)\n",
    "        \n",
    "        # Draw the pose annotation on the image.\n",
    "        mp_drawing.draw_landmarks(image, results.pose_landmarks, mp_pose.POSE_CONNECTIONS,\n",
    "                                  landmark_drawing_spec=mp_drawing_styles.get_default_pose_landmarks_style())\n",
    "        \n",
    "        # CNN prediction\n",
    "        # processing image with the landmark for prediction    \n",
    "        img_array = tf.keras.utils.img_to_array(cv2.resize(image, (img_height, img_width)))\n",
    "        #img_array = tf.keras.utils.img_to_array(image)\n",
    "        img_array = tf.expand_dims(img_array, 0) # Create a batch\n",
    "        classify_lite = interpreter.get_signature_runner('serving_default')\n",
    "        \n",
    "        # look at the CNN signature for the 'input' and 'output'\n",
    "        # predictions_lite = classify_lite('input'=img_array)['output']\n",
    "        predictions_lite = classify_lite(rescaling_input=img_array)['dense_3']\n",
    "        score_lite = tf.nn.softmax(predictions_lite)        \n",
    "        \n",
    "        # set the color of the text for action predicted\n",
    "        if (np.argmax(score_lite) == 0):\n",
    "            colors = red\n",
    "        else:\n",
    "            colors = blue\n",
    "            \n",
    "        # print the class on the image\n",
    "        asan = 'CNN ' + class_name[np.argmax(score_lite)]     # extract the class name to be displayed\n",
    "        \n",
    "        if ((100 * np.max(score_lite)) < 60):\n",
    "            asan = asan2\n",
    "            colors = color2\n",
    "            \n",
    "        cv2.putText(image, asan, (50,50), cv2.FONT_HERSHEY_SIMPLEX,1,colors,3)        \n",
    "        \n",
    "        # show the image.\n",
    "        cv2.imshow('Human Pose', image)\n",
    "\n",
    "        #print the prediction result\n",
    "        #print(\"{}  -  {:.2f}\".format(class_name[np.argmax(score_lite)], 100 * np.max(score_lite)) )\n",
    "\n",
    "        if cv2.waitKey(5) & 0xFF == 27:\n",
    "            cv2.destroyAllWindows()\n",
    "            break\n",
    "\n",
    "cap.release()\n"
   ]
  },
  {
   "cell_type": "code",
   "execution_count": null,
   "id": "bca5f185",
   "metadata": {},
   "outputs": [],
   "source": []
  }
 ],
 "metadata": {
  "kernelspec": {
   "display_name": "Python 3 (ipykernel)",
   "language": "python",
   "name": "python3"
  },
  "language_info": {
   "codemirror_mode": {
    "name": "ipython",
    "version": 3
   },
   "file_extension": ".py",
   "mimetype": "text/x-python",
   "name": "python",
   "nbconvert_exporter": "python",
   "pygments_lexer": "ipython3",
   "version": "3.9.12"
  }
 },
 "nbformat": 4,
 "nbformat_minor": 5
}
